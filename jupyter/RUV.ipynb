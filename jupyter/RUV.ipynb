{
 "cells": [
  {
   "cell_type": "code",
   "execution_count": 1,
   "metadata": {},
   "outputs": [],
   "source": [
    "ruvs <- function(mat, class_info, batch_info=NULL, k = 1){\n",
    "    if(is.null(class_info)) stop('class_info is needed for RUVs')\n",
    "\n",
    "    message('start batch removal using RUVs')\n",
    "    suppressMessages(library(RUVSeq))\n",
    "\n",
    "    cIdx <- rownames(mat)\n",
    "    \n",
    "    class_sizes <- table(class_info)\n",
    "    scIdx <- matrix(-1, ncol = max(class_sizes), nrow = dim(class_sizes))\n",
    "    for(i in c(1:dim(class_sizes))) {\n",
    "        tmp <- which(class_info == names(class_sizes)[i])\n",
    "        scIdx[i, 1:length(tmp)] <- tmp\n",
    "    }\n",
    "    mat <- log(mat + 0.25)\n",
    "    seq_ruvs <- RUVs(as.matrix(mat), cIdx, k = k, scIdx = scIdx, isLog = TRUE)\n",
    "    exp(seq_ruvs$normalizedCounts)\n",
    "}"
   ]
  },
  {
   "cell_type": "code",
   "execution_count": 17,
   "metadata": {},
   "outputs": [],
   "source": []
  },
  {
   "cell_type": "code",
   "execution_count": 18,
   "metadata": {},
   "outputs": [],
   "source": [
    "setwd('~/projects/DIP')"
   ]
  },
  {
   "cell_type": "code",
   "execution_count": 61,
   "metadata": {},
   "outputs": [],
   "source": [
    "mat <- read.table('data/X.csv')"
   ]
  },
  {
   "cell_type": "code",
   "execution_count": 62,
   "metadata": {},
   "outputs": [],
   "source": [
    "ruv_k = 5"
   ]
  },
  {
   "cell_type": "code",
   "execution_count": 63,
   "metadata": {},
   "outputs": [],
   "source": [
    "class_info <- rep(1, ncol(mat))\n",
    "names(class_info) <- colnames(mat)\n"
   ]
  },
  {
   "cell_type": "code",
   "execution_count": 64,
   "metadata": {},
   "outputs": [
    {
     "name": "stderr",
     "output_type": "stream",
     "text": [
      "start batch removal using RUVs\n"
     ]
    }
   ],
   "source": [
    "mat <- ruvs(mat, class_info=class_info, k=ruv_k)"
   ]
  },
  {
   "cell_type": "code",
   "execution_count": 67,
   "metadata": {},
   "outputs": [],
   "source": [
    "write.csv(mat,'data/ruv_X.csv')"
   ]
  },
  {
   "cell_type": "code",
   "execution_count": null,
   "metadata": {},
   "outputs": [],
   "source": []
  }
 ],
 "metadata": {
  "hide_input": false,
  "kernelspec": {
   "display_name": "R",
   "language": "R",
   "name": "ir"
  },
  "language_info": {
   "codemirror_mode": "r",
   "file_extension": ".r",
   "mimetype": "text/x-r-source",
   "name": "R",
   "pygments_lexer": "r",
   "version": "3.5.1"
  },
  "toc": {
   "base_numbering": 1,
   "nav_menu": {},
   "number_sections": true,
   "sideBar": true,
   "skip_h1_title": false,
   "title_cell": "Table of Contents",
   "title_sidebar": "Contents",
   "toc_cell": false,
   "toc_position": {},
   "toc_section_display": true,
   "toc_window_display": false
  }
 },
 "nbformat": 4,
 "nbformat_minor": 2
}

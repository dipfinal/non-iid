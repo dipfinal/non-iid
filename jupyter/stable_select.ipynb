{
 "cells": [
  {
   "cell_type": "code",
   "execution_count": 2,
   "metadata": {},
   "outputs": [
    {
     "name": "stdout",
     "output_type": "stream",
     "text": [
      "Populating the interactive namespace from numpy and matplotlib\n"
     ]
    },
    {
     "data": {
      "text/html": [
       "\n",
       "    <div class=\"bk-root\">\n",
       "        <a href=\"https://bokeh.pydata.org\" target=\"_blank\" class=\"bk-logo bk-logo-small bk-logo-notebook\"></a>\n",
       "        <span id=\"1001\">Loading BokehJS ...</span>\n",
       "    </div>"
      ]
     },
     "metadata": {},
     "output_type": "display_data"
    },
    {
     "data": {
      "application/javascript": [
       "\n",
       "(function(root) {\n",
       "  function now() {\n",
       "    return new Date();\n",
       "  }\n",
       "\n",
       "  var force = true;\n",
       "\n",
       "  if (typeof root._bokeh_onload_callbacks === \"undefined\" || force === true) {\n",
       "    root._bokeh_onload_callbacks = [];\n",
       "    root._bokeh_is_loading = undefined;\n",
       "  }\n",
       "\n",
       "  var JS_MIME_TYPE = 'application/javascript';\n",
       "  var HTML_MIME_TYPE = 'text/html';\n",
       "  var EXEC_MIME_TYPE = 'application/vnd.bokehjs_exec.v0+json';\n",
       "  var CLASS_NAME = 'output_bokeh rendered_html';\n",
       "\n",
       "  /**\n",
       "   * Render data to the DOM node\n",
       "   */\n",
       "  function render(props, node) {\n",
       "    var script = document.createElement(\"script\");\n",
       "    node.appendChild(script);\n",
       "  }\n",
       "\n",
       "  /**\n",
       "   * Handle when an output is cleared or removed\n",
       "   */\n",
       "  function handleClearOutput(event, handle) {\n",
       "    var cell = handle.cell;\n",
       "\n",
       "    var id = cell.output_area._bokeh_element_id;\n",
       "    var server_id = cell.output_area._bokeh_server_id;\n",
       "    // Clean up Bokeh references\n",
       "    if (id != null && id in Bokeh.index) {\n",
       "      Bokeh.index[id].model.document.clear();\n",
       "      delete Bokeh.index[id];\n",
       "    }\n",
       "\n",
       "    if (server_id !== undefined) {\n",
       "      // Clean up Bokeh references\n",
       "      var cmd = \"from bokeh.io.state import curstate; print(curstate().uuid_to_server['\" + server_id + \"'].get_sessions()[0].document.roots[0]._id)\";\n",
       "      cell.notebook.kernel.execute(cmd, {\n",
       "        iopub: {\n",
       "          output: function(msg) {\n",
       "            var id = msg.content.text.trim();\n",
       "            if (id in Bokeh.index) {\n",
       "              Bokeh.index[id].model.document.clear();\n",
       "              delete Bokeh.index[id];\n",
       "            }\n",
       "          }\n",
       "        }\n",
       "      });\n",
       "      // Destroy server and session\n",
       "      var cmd = \"import bokeh.io.notebook as ion; ion.destroy_server('\" + server_id + \"')\";\n",
       "      cell.notebook.kernel.execute(cmd);\n",
       "    }\n",
       "  }\n",
       "\n",
       "  /**\n",
       "   * Handle when a new output is added\n",
       "   */\n",
       "  function handleAddOutput(event, handle) {\n",
       "    var output_area = handle.output_area;\n",
       "    var output = handle.output;\n",
       "\n",
       "    // limit handleAddOutput to display_data with EXEC_MIME_TYPE content only\n",
       "    if ((output.output_type != \"display_data\") || (!output.data.hasOwnProperty(EXEC_MIME_TYPE))) {\n",
       "      return\n",
       "    }\n",
       "\n",
       "    var toinsert = output_area.element.find(\".\" + CLASS_NAME.split(' ')[0]);\n",
       "\n",
       "    if (output.metadata[EXEC_MIME_TYPE][\"id\"] !== undefined) {\n",
       "      toinsert[toinsert.length - 1].firstChild.textContent = output.data[JS_MIME_TYPE];\n",
       "      // store reference to embed id on output_area\n",
       "      output_area._bokeh_element_id = output.metadata[EXEC_MIME_TYPE][\"id\"];\n",
       "    }\n",
       "    if (output.metadata[EXEC_MIME_TYPE][\"server_id\"] !== undefined) {\n",
       "      var bk_div = document.createElement(\"div\");\n",
       "      bk_div.innerHTML = output.data[HTML_MIME_TYPE];\n",
       "      var script_attrs = bk_div.children[0].attributes;\n",
       "      for (var i = 0; i < script_attrs.length; i++) {\n",
       "        toinsert[toinsert.length - 1].firstChild.setAttribute(script_attrs[i].name, script_attrs[i].value);\n",
       "      }\n",
       "      // store reference to server id on output_area\n",
       "      output_area._bokeh_server_id = output.metadata[EXEC_MIME_TYPE][\"server_id\"];\n",
       "    }\n",
       "  }\n",
       "\n",
       "  function register_renderer(events, OutputArea) {\n",
       "\n",
       "    function append_mime(data, metadata, element) {\n",
       "      // create a DOM node to render to\n",
       "      var toinsert = this.create_output_subarea(\n",
       "        metadata,\n",
       "        CLASS_NAME,\n",
       "        EXEC_MIME_TYPE\n",
       "      );\n",
       "      this.keyboard_manager.register_events(toinsert);\n",
       "      // Render to node\n",
       "      var props = {data: data, metadata: metadata[EXEC_MIME_TYPE]};\n",
       "      render(props, toinsert[toinsert.length - 1]);\n",
       "      element.append(toinsert);\n",
       "      return toinsert\n",
       "    }\n",
       "\n",
       "    /* Handle when an output is cleared or removed */\n",
       "    events.on('clear_output.CodeCell', handleClearOutput);\n",
       "    events.on('delete.Cell', handleClearOutput);\n",
       "\n",
       "    /* Handle when a new output is added */\n",
       "    events.on('output_added.OutputArea', handleAddOutput);\n",
       "\n",
       "    /**\n",
       "     * Register the mime type and append_mime function with output_area\n",
       "     */\n",
       "    OutputArea.prototype.register_mime_type(EXEC_MIME_TYPE, append_mime, {\n",
       "      /* Is output safe? */\n",
       "      safe: true,\n",
       "      /* Index of renderer in `output_area.display_order` */\n",
       "      index: 0\n",
       "    });\n",
       "  }\n",
       "\n",
       "  // register the mime type if in Jupyter Notebook environment and previously unregistered\n",
       "  if (root.Jupyter !== undefined) {\n",
       "    var events = require('base/js/events');\n",
       "    var OutputArea = require('notebook/js/outputarea').OutputArea;\n",
       "\n",
       "    if (OutputArea.prototype.mime_types().indexOf(EXEC_MIME_TYPE) == -1) {\n",
       "      register_renderer(events, OutputArea);\n",
       "    }\n",
       "  }\n",
       "\n",
       "  \n",
       "  if (typeof (root._bokeh_timeout) === \"undefined\" || force === true) {\n",
       "    root._bokeh_timeout = Date.now() + 5000;\n",
       "    root._bokeh_failed_load = false;\n",
       "  }\n",
       "\n",
       "  var NB_LOAD_WARNING = {'data': {'text/html':\n",
       "     \"<div style='background-color: #fdd'>\\n\"+\n",
       "     \"<p>\\n\"+\n",
       "     \"BokehJS does not appear to have successfully loaded. If loading BokehJS from CDN, this \\n\"+\n",
       "     \"may be due to a slow or bad network connection. Possible fixes:\\n\"+\n",
       "     \"</p>\\n\"+\n",
       "     \"<ul>\\n\"+\n",
       "     \"<li>re-rerun `output_notebook()` to attempt to load from CDN again, or</li>\\n\"+\n",
       "     \"<li>use INLINE resources instead, as so:</li>\\n\"+\n",
       "     \"</ul>\\n\"+\n",
       "     \"<code>\\n\"+\n",
       "     \"from bokeh.resources import INLINE\\n\"+\n",
       "     \"output_notebook(resources=INLINE)\\n\"+\n",
       "     \"</code>\\n\"+\n",
       "     \"</div>\"}};\n",
       "\n",
       "  function display_loaded() {\n",
       "    var el = document.getElementById(\"1001\");\n",
       "    if (el != null) {\n",
       "      el.textContent = \"BokehJS is loading...\";\n",
       "    }\n",
       "    if (root.Bokeh !== undefined) {\n",
       "      if (el != null) {\n",
       "        el.textContent = \"BokehJS \" + root.Bokeh.version + \" successfully loaded.\";\n",
       "      }\n",
       "    } else if (Date.now() < root._bokeh_timeout) {\n",
       "      setTimeout(display_loaded, 100)\n",
       "    }\n",
       "  }\n",
       "\n",
       "\n",
       "  function run_callbacks() {\n",
       "    try {\n",
       "      root._bokeh_onload_callbacks.forEach(function(callback) {\n",
       "        if (callback != null)\n",
       "          callback();\n",
       "      });\n",
       "    } finally {\n",
       "      delete root._bokeh_onload_callbacks\n",
       "    }\n",
       "    console.debug(\"Bokeh: all callbacks have finished\");\n",
       "  }\n",
       "\n",
       "  function load_libs(css_urls, js_urls, callback) {\n",
       "    if (css_urls == null) css_urls = [];\n",
       "    if (js_urls == null) js_urls = [];\n",
       "\n",
       "    root._bokeh_onload_callbacks.push(callback);\n",
       "    if (root._bokeh_is_loading > 0) {\n",
       "      console.debug(\"Bokeh: BokehJS is being loaded, scheduling callback at\", now());\n",
       "      return null;\n",
       "    }\n",
       "    if (js_urls == null || js_urls.length === 0) {\n",
       "      run_callbacks();\n",
       "      return null;\n",
       "    }\n",
       "    console.debug(\"Bokeh: BokehJS not loaded, scheduling load and callback at\", now());\n",
       "    root._bokeh_is_loading = css_urls.length + js_urls.length;\n",
       "\n",
       "    function on_load() {\n",
       "      root._bokeh_is_loading--;\n",
       "      if (root._bokeh_is_loading === 0) {\n",
       "        console.debug(\"Bokeh: all BokehJS libraries/stylesheets loaded\");\n",
       "        run_callbacks()\n",
       "      }\n",
       "    }\n",
       "\n",
       "    function on_error() {\n",
       "      console.error(\"failed to load \" + url);\n",
       "    }\n",
       "\n",
       "    for (var i = 0; i < css_urls.length; i++) {\n",
       "      var url = css_urls[i];\n",
       "      const element = document.createElement(\"link\");\n",
       "      element.onload = on_load;\n",
       "      element.onerror = on_error;\n",
       "      element.rel = \"stylesheet\";\n",
       "      element.type = \"text/css\";\n",
       "      element.href = url;\n",
       "      console.debug(\"Bokeh: injecting link tag for BokehJS stylesheet: \", url);\n",
       "      document.body.appendChild(element);\n",
       "    }\n",
       "\n",
       "    for (var i = 0; i < js_urls.length; i++) {\n",
       "      var url = js_urls[i];\n",
       "      var element = document.createElement('script');\n",
       "      element.onload = on_load;\n",
       "      element.onerror = on_error;\n",
       "      element.async = false;\n",
       "      element.src = url;\n",
       "      console.debug(\"Bokeh: injecting script tag for BokehJS library: \", url);\n",
       "      document.head.appendChild(element);\n",
       "    }\n",
       "  };var element = document.getElementById(\"1001\");\n",
       "  if (element == null) {\n",
       "    console.error(\"Bokeh: ERROR: autoload.js configured with elementid '1001' but no matching script tag was found. \")\n",
       "    return false;\n",
       "  }\n",
       "\n",
       "  function inject_raw_css(css) {\n",
       "    const element = document.createElement(\"style\");\n",
       "    element.appendChild(document.createTextNode(css));\n",
       "    document.body.appendChild(element);\n",
       "  }\n",
       "\n",
       "  var js_urls = [\"https://cdn.pydata.org/bokeh/release/bokeh-1.1.0.min.js\", \"https://cdn.pydata.org/bokeh/release/bokeh-widgets-1.1.0.min.js\", \"https://cdn.pydata.org/bokeh/release/bokeh-tables-1.1.0.min.js\", \"https://cdn.pydata.org/bokeh/release/bokeh-gl-1.1.0.min.js\"];\n",
       "  var css_urls = [\"https://cdn.pydata.org/bokeh/release/bokeh-1.1.0.min.css\", \"https://cdn.pydata.org/bokeh/release/bokeh-widgets-1.1.0.min.css\", \"https://cdn.pydata.org/bokeh/release/bokeh-tables-1.1.0.min.css\"];\n",
       "\n",
       "  var inline_js = [\n",
       "    function(Bokeh) {\n",
       "      Bokeh.set_log_level(\"info\");\n",
       "    },\n",
       "    \n",
       "    function(Bokeh) {\n",
       "      \n",
       "    },\n",
       "    function(Bokeh) {} // ensure no trailing comma for IE\n",
       "  ];\n",
       "\n",
       "  function run_inline_js() {\n",
       "    \n",
       "    if ((root.Bokeh !== undefined) || (force === true)) {\n",
       "      for (var i = 0; i < inline_js.length; i++) {\n",
       "        inline_js[i].call(root, root.Bokeh);\n",
       "      }if (force === true) {\n",
       "        display_loaded();\n",
       "      }} else if (Date.now() < root._bokeh_timeout) {\n",
       "      setTimeout(run_inline_js, 100);\n",
       "    } else if (!root._bokeh_failed_load) {\n",
       "      console.log(\"Bokeh: BokehJS failed to load within specified timeout.\");\n",
       "      root._bokeh_failed_load = true;\n",
       "    } else if (force !== true) {\n",
       "      var cell = $(document.getElementById(\"1001\")).parents('.cell').data().cell;\n",
       "      cell.output_area.append_execute_result(NB_LOAD_WARNING)\n",
       "    }\n",
       "\n",
       "  }\n",
       "\n",
       "  if (root._bokeh_is_loading === 0) {\n",
       "    console.debug(\"Bokeh: BokehJS loaded, going straight to plotting\");\n",
       "    run_inline_js();\n",
       "  } else {\n",
       "    load_libs(css_urls, js_urls, function() {\n",
       "      console.debug(\"Bokeh: BokehJS plotting callback run at\", now());\n",
       "      run_inline_js();\n",
       "    });\n",
       "  }\n",
       "}(window));"
      ],
      "application/vnd.bokehjs_load.v0+json": "\n(function(root) {\n  function now() {\n    return new Date();\n  }\n\n  var force = true;\n\n  if (typeof root._bokeh_onload_callbacks === \"undefined\" || force === true) {\n    root._bokeh_onload_callbacks = [];\n    root._bokeh_is_loading = undefined;\n  }\n\n  \n\n  \n  if (typeof (root._bokeh_timeout) === \"undefined\" || force === true) {\n    root._bokeh_timeout = Date.now() + 5000;\n    root._bokeh_failed_load = false;\n  }\n\n  var NB_LOAD_WARNING = {'data': {'text/html':\n     \"<div style='background-color: #fdd'>\\n\"+\n     \"<p>\\n\"+\n     \"BokehJS does not appear to have successfully loaded. If loading BokehJS from CDN, this \\n\"+\n     \"may be due to a slow or bad network connection. Possible fixes:\\n\"+\n     \"</p>\\n\"+\n     \"<ul>\\n\"+\n     \"<li>re-rerun `output_notebook()` to attempt to load from CDN again, or</li>\\n\"+\n     \"<li>use INLINE resources instead, as so:</li>\\n\"+\n     \"</ul>\\n\"+\n     \"<code>\\n\"+\n     \"from bokeh.resources import INLINE\\n\"+\n     \"output_notebook(resources=INLINE)\\n\"+\n     \"</code>\\n\"+\n     \"</div>\"}};\n\n  function display_loaded() {\n    var el = document.getElementById(\"1001\");\n    if (el != null) {\n      el.textContent = \"BokehJS is loading...\";\n    }\n    if (root.Bokeh !== undefined) {\n      if (el != null) {\n        el.textContent = \"BokehJS \" + root.Bokeh.version + \" successfully loaded.\";\n      }\n    } else if (Date.now() < root._bokeh_timeout) {\n      setTimeout(display_loaded, 100)\n    }\n  }\n\n\n  function run_callbacks() {\n    try {\n      root._bokeh_onload_callbacks.forEach(function(callback) {\n        if (callback != null)\n          callback();\n      });\n    } finally {\n      delete root._bokeh_onload_callbacks\n    }\n    console.debug(\"Bokeh: all callbacks have finished\");\n  }\n\n  function load_libs(css_urls, js_urls, callback) {\n    if (css_urls == null) css_urls = [];\n    if (js_urls == null) js_urls = [];\n\n    root._bokeh_onload_callbacks.push(callback);\n    if (root._bokeh_is_loading > 0) {\n      console.debug(\"Bokeh: BokehJS is being loaded, scheduling callback at\", now());\n      return null;\n    }\n    if (js_urls == null || js_urls.length === 0) {\n      run_callbacks();\n      return null;\n    }\n    console.debug(\"Bokeh: BokehJS not loaded, scheduling load and callback at\", now());\n    root._bokeh_is_loading = css_urls.length + js_urls.length;\n\n    function on_load() {\n      root._bokeh_is_loading--;\n      if (root._bokeh_is_loading === 0) {\n        console.debug(\"Bokeh: all BokehJS libraries/stylesheets loaded\");\n        run_callbacks()\n      }\n    }\n\n    function on_error() {\n      console.error(\"failed to load \" + url);\n    }\n\n    for (var i = 0; i < css_urls.length; i++) {\n      var url = css_urls[i];\n      const element = document.createElement(\"link\");\n      element.onload = on_load;\n      element.onerror = on_error;\n      element.rel = \"stylesheet\";\n      element.type = \"text/css\";\n      element.href = url;\n      console.debug(\"Bokeh: injecting link tag for BokehJS stylesheet: \", url);\n      document.body.appendChild(element);\n    }\n\n    for (var i = 0; i < js_urls.length; i++) {\n      var url = js_urls[i];\n      var element = document.createElement('script');\n      element.onload = on_load;\n      element.onerror = on_error;\n      element.async = false;\n      element.src = url;\n      console.debug(\"Bokeh: injecting script tag for BokehJS library: \", url);\n      document.head.appendChild(element);\n    }\n  };var element = document.getElementById(\"1001\");\n  if (element == null) {\n    console.error(\"Bokeh: ERROR: autoload.js configured with elementid '1001' but no matching script tag was found. \")\n    return false;\n  }\n\n  function inject_raw_css(css) {\n    const element = document.createElement(\"style\");\n    element.appendChild(document.createTextNode(css));\n    document.body.appendChild(element);\n  }\n\n  var js_urls = [\"https://cdn.pydata.org/bokeh/release/bokeh-1.1.0.min.js\", \"https://cdn.pydata.org/bokeh/release/bokeh-widgets-1.1.0.min.js\", \"https://cdn.pydata.org/bokeh/release/bokeh-tables-1.1.0.min.js\", \"https://cdn.pydata.org/bokeh/release/bokeh-gl-1.1.0.min.js\"];\n  var css_urls = [\"https://cdn.pydata.org/bokeh/release/bokeh-1.1.0.min.css\", \"https://cdn.pydata.org/bokeh/release/bokeh-widgets-1.1.0.min.css\", \"https://cdn.pydata.org/bokeh/release/bokeh-tables-1.1.0.min.css\"];\n\n  var inline_js = [\n    function(Bokeh) {\n      Bokeh.set_log_level(\"info\");\n    },\n    \n    function(Bokeh) {\n      \n    },\n    function(Bokeh) {} // ensure no trailing comma for IE\n  ];\n\n  function run_inline_js() {\n    \n    if ((root.Bokeh !== undefined) || (force === true)) {\n      for (var i = 0; i < inline_js.length; i++) {\n        inline_js[i].call(root, root.Bokeh);\n      }if (force === true) {\n        display_loaded();\n      }} else if (Date.now() < root._bokeh_timeout) {\n      setTimeout(run_inline_js, 100);\n    } else if (!root._bokeh_failed_load) {\n      console.log(\"Bokeh: BokehJS failed to load within specified timeout.\");\n      root._bokeh_failed_load = true;\n    } else if (force !== true) {\n      var cell = $(document.getElementById(\"1001\")).parents('.cell').data().cell;\n      cell.output_area.append_execute_result(NB_LOAD_WARNING)\n    }\n\n  }\n\n  if (root._bokeh_is_loading === 0) {\n    console.debug(\"Bokeh: BokehJS loaded, going straight to plotting\");\n    run_inline_js();\n  } else {\n    load_libs(css_urls, js_urls, function() {\n      console.debug(\"Bokeh: BokehJS plotting callback run at\", now());\n      run_inline_js();\n    });\n  }\n}(window));"
     },
     "metadata": {},
     "output_type": "display_data"
    }
   ],
   "source": [
    "from bartpy.sklearnmodel import SklearnModel\n",
    "import gc, argparse, sys, os, errno\n",
    "from functools import reduce\n",
    "%pylab inline\n",
    "import numpy as np\n",
    "import pandas as pd\n",
    "import matplotlib.pyplot as plt\n",
    "import seaborn as sns\n",
    "from tqdm import tqdm_notebook as tqdm\n",
    "import scipy\n",
    "import sklearn\n",
    "from scipy.stats import pearsonr\n",
    "import warnings\n",
    "warnings.filterwarnings('ignore')\n",
    "from bokeh.io import output_notebook, show\n",
    "output_notebook()\n",
    "from scipy import io\n",
    "from sklearn.decomposition import PCA\n",
    "from sklearn.manifold import TSNE\n",
    "from sklearn.neighbors import NearestNeighbors\n",
    "from bokeh.palettes import Category20c\n",
    "from ipywidgets import interact,interactive, FloatSlider,IntSlider, RadioButtons,Dropdown,Tab,Text\n",
    "\n",
    "from collections import defaultdict\n",
    "from sklearn.datasets import make_classification, make_regression, make_circles, make_moons, make_gaussian_quantiles\n",
    "from sklearn.preprocessing import StandardScaler, MinMaxScaler, MaxAbsScaler, RobustScaler\n",
    "from sklearn.linear_model import LogisticRegression\n",
    "from sklearn.ensemble import RandomForestClassifier\n",
    "from sklearn.neighbors import KNeighborsClassifier\n",
    "from sklearn.tree import DecisionTreeClassifier\n",
    "from sklearn.cluster import KMeans\n",
    "from sklearn.svm import SVC, LinearSVC\n",
    "from sklearn.gaussian_process import GaussianProcessClassifier\n",
    "from sklearn.decomposition import PCA\n",
    "from sklearn.model_selection import KFold, train_test_split, GridSearchCV, cross_val_score\n",
    "from sklearn.metrics import accuracy_score, roc_auc_score, f1_score, recall_score, precision_score, \\\n",
    "    roc_curve, precision_recall_curve, average_precision_score, matthews_corrcoef, confusion_matrix\n",
    "from statsmodels.robust.scale import mad\n",
    "from scipy.stats import pearsonr\n",
    "\n",
    "random_state = np.random.RandomState(1289237)  \n"
   ]
  },
  {
   "cell_type": "code",
   "execution_count": 3,
   "metadata": {},
   "outputs": [
    {
     "name": "stdout",
     "output_type": "stream",
     "text": [
      "/Users/james/Desktop/四春/A5图像处理/大作业2/DIP_final\n"
     ]
    }
   ],
   "source": [
    "cd .."
   ]
  },
  {
   "cell_type": "code",
   "execution_count": 4,
   "metadata": {},
   "outputs": [
    {
     "name": "stdout",
     "output_type": "stream",
     "text": [
      "(4156, 52)\n",
      "number of training samples: 2956, test samples: 1200\n"
     ]
    }
   ],
   "source": [
    "def prepare_dataset(datafile='data/BoW_Training.mat',valid_method = 'classic',train_context_num=5):\n",
    "    import scipy.io as sio\n",
    "    BoW_Training = sio.loadmat(datafile)['data']\n",
    "    print (BoW_Training.shape)\n",
    "    BoW_Training_x = BoW_Training[:,:50]\n",
    "    BoW_Training_y = BoW_Training[:,-2:]\n",
    "    if valid_method == 'classic':\n",
    "        return train_test_split(BoW_Training_x, BoW_Training_y, test_size=0.2, random_state=42)\n",
    "    elif valid_method =='non-iid':\n",
    "        '''\n",
    "        split the dataset so for each class, split 7 contexts into 5:2, \n",
    "        predict 2 contexts corresponding class\n",
    "        '''\n",
    "        tmp_select_ind = np.array([]).astype('int')\n",
    "        for i in np.unique(BoW_Training_y[:,0]):\n",
    "            #print (np.unique(BoW_Training_y[:,1][BoW_Training_y[:,0] ==i]))\n",
    "            tmp_context_ind = np.random.choice(np.unique(BoW_Training_y[:,1][BoW_Training_y[:,0] ==i]),\n",
    "                             train_context_num,replace=False,)\n",
    "            tmp_select_ind = np.concatenate((tmp_select_ind,np.where( (BoW_Training_y[:,0]==i)& \n",
    "                                (np.isin(BoW_Training_y[:,1],tmp_context_ind )==1) )[0]  ))\n",
    "\n",
    "        train_ind = tmp_select_ind\n",
    "        test_ind = np.setdiff1d(np.arange(0,BoW_Training_y.shape[0]),tmp_select_ind)\n",
    "        return BoW_Training_x[train_ind],BoW_Training_x[test_ind],BoW_Training_y[train_ind],\\\n",
    "                BoW_Training_y[test_ind],train_ind,test_ind\n",
    "def preprocess(data,method='minmax'):\n",
    "    if method =='minmax':\n",
    "        scaler = MinMaxScaler()\n",
    "        scaler.fit(data)\n",
    "    elif method =='zscore':\n",
    "        scaler = StandardScaler()\n",
    "        scaler.fit(data)\n",
    "    elif method =='robust':\n",
    "        scaler = RobustScaler()\n",
    "        scaler.fit(data)\n",
    "    return scaler.transform(data),scaler\n",
    "\n",
    "X_train, X_test, y_train, y_test,_,_ = prepare_dataset(datafile='data/BoW_Training.mat',\n",
    "                                                        valid_method = 'non-iid',\n",
    "                                                         train_context_num=5)\n",
    "print('number of training samples: {}, test samples: {}'.format(X_train.shape[0], X_test.shape[0]))\n"
   ]
  },
  {
   "cell_type": "code",
   "execution_count": 5,
   "metadata": {},
   "outputs": [],
   "source": [
    "y_train = y_train[:,0]\n",
    "y_test = y_test[:,0]"
   ]
  },
  {
   "cell_type": "code",
   "execution_count": 6,
   "metadata": {},
   "outputs": [],
   "source": [
    "def preprocess(data,method='minmax'):\n",
    "    if method =='minmax':\n",
    "        scaler = MinMaxScaler()\n",
    "        scaler.fit(data)\n",
    "    elif method =='zscore':\n",
    "        scaler = StandardScaler()\n",
    "        scaler.fit(data)\n",
    "    elif method =='robust':\n",
    "        scaler = RobustScaler()\n",
    "        scaler.fit(data)\n",
    "    return scaler.transform(data),scaler\n",
    "X_train = preprocess(X_train,method='robust')[0]\n",
    "X_test =  preprocess(X_test,method='robust')[0]"
   ]
  },
  {
   "cell_type": "code",
   "execution_count": 7,
   "metadata": {},
   "outputs": [],
   "source": [
    "def report_metrics(y_test, y_pred):\n",
    "    scorers = {'accuracy': accuracy_score(y_test, y_pred),\n",
    "           'recall': recall_score(y_test, y_pred,average=None),\n",
    "           'precision': precision_score(y_test, y_pred,average=None),\n",
    "           'f1': f1_score(y_test, y_pred,average=None),\n",
    "           'mcc': matthews_corrcoef(y_test, y_pred)\n",
    "    }\n",
    "    for metric in scorers.keys():\n",
    "        print('{} = {}'.format(metric, scorers[metric]))\n",
    "    return scorers['f1'],scorers['accuracy'],scorers['recall'],scorers['precision'],scorers['mcc']\n",
    "\n",
    "def report_metrics_plot(y_test, y_pred):\n",
    "    fig, ax = plt.subplots(1,2,figsize=(6,5))\n",
    "    f1,accuracy,recall,precision,mcc = report_metrics(y_test, y_pred)\n",
    "    metrics_1 = np.concatenate((recall.reshape(-1,1),precision.reshape(-1,1),f1.reshape(-1,1)),axis=1)\n",
    "    sns.stripplot(data=metrics_1,ax=ax[0])\n",
    "    sns.boxplot(data=metrics_1,ax=ax[0])\n",
    "    ax[0].set_xticklabels(['recall','precision','f1'])\n",
    "    metrics_2=np.array([accuracy,mcc])\n",
    "    sns.barplot(data=pd.DataFrame(metrics_2.reshape(1,-1)),ax=ax[1])\n",
    "    ax[1].set_xticklabels(['accuracy','mcc'])"
   ]
  },
  {
   "cell_type": "code",
   "execution_count": 8,
   "metadata": {},
   "outputs": [
    {
     "ename": "NameError",
     "evalue": "name 'out_of_sample_predictions' is not defined",
     "output_type": "error",
     "traceback": [
      "\u001b[0;31m---------------------------------------------------------------------------\u001b[0m",
      "\u001b[0;31mNameError\u001b[0m                                 Traceback (most recent call last)",
      "\u001b[0;32m<ipython-input-8-9341d2af9bdd>\u001b[0m in \u001b[0;36m<module>\u001b[0;34m\u001b[0m\n\u001b[0;32m----> 1\u001b[0;31m \u001b[0mreport_metrics_plot\u001b[0m\u001b[0;34m(\u001b[0m\u001b[0my_test\u001b[0m\u001b[0;34m,\u001b[0m \u001b[0;34m(\u001b[0m\u001b[0mout_of_sample_predictions\u001b[0m\u001b[0;34m)\u001b[0m\u001b[0;34m.\u001b[0m\u001b[0mastype\u001b[0m\u001b[0;34m(\u001b[0m\u001b[0;34m'int'\u001b[0m\u001b[0;34m)\u001b[0m\u001b[0;34m)\u001b[0m\u001b[0;34m\u001b[0m\u001b[0;34m\u001b[0m\u001b[0m\n\u001b[0m",
      "\u001b[0;31mNameError\u001b[0m: name 'out_of_sample_predictions' is not defined"
     ]
    }
   ],
   "source": [
    "report_metrics_plot(y_test, (out_of_sample_predictions).astype('int'))"
   ]
  },
  {
   "cell_type": "code",
   "execution_count": 1,
   "metadata": {},
   "outputs": [
    {
     "name": "stderr",
     "output_type": "stream",
     "text": [
      "/Users/james/anaconda3/lib/python3.6/site-packages/sklearn/externals/joblib/__init__.py:15: DeprecationWarning: sklearn.externals.joblib is deprecated in 0.21 and will be removed in 0.23. Please import this functionality directly from joblib, which can be installed with: pip install joblib. If this warning is raised when loading pickled models, you may need to re-serialize those models with scikit-learn 0.21+.\n",
      "  warnings.warn(msg, category=DeprecationWarning)\n"
     ]
    }
   ],
   "source": [
    "import numpy as np\n",
    "\n",
    "from sklearn.linear_model import LogisticRegression\n",
    "from sklearn.pipeline import Pipeline\n",
    "from sklearn.preprocessing import StandardScaler\n",
    "from sklearn.utils import check_random_state\n",
    "from stability_selection import StabilitySelection\n",
    "\n"
   ]
  },
  {
   "cell_type": "code",
   "execution_count": 11,
   "metadata": {},
   "outputs": [
    {
     "name": "stdout",
     "output_type": "stream",
     "text": [
      "[ 0  1  2  3  4  5  6  7  8  9 10 11 12 13 14 15 16 17 18 19 20 21 23 25\n",
      " 27 28 29 32 33 35 36 37 38 41 42 43 45 47 48 49]\n"
     ]
    }
   ],
   "source": [
    "base_estimator = Pipeline([\n",
    "    ('scaler', StandardScaler()),\n",
    "    ('model', LogisticRegression(penalty='l1'))\n",
    "])\n",
    "\n",
    "## Here stability selection is instantiated and run\n",
    "selector = StabilitySelection(base_estimator=base_estimator, lambda_name='model__C',\n",
    "                              lambda_grid=np.logspace(-5, -1, 5)).fit(X_train, y_train)\n",
    "\n",
    "print(selector.get_support(indices=True))"
   ]
  },
  {
   "cell_type": "code",
   "execution_count": 18,
   "metadata": {},
   "outputs": [
    {
     "data": {
      "text/plain": [
       "(40,)"
      ]
     },
     "execution_count": 18,
     "metadata": {},
     "output_type": "execute_result"
    }
   ],
   "source": [
    "selector.get_support(indices=True).shape"
   ]
  },
  {
   "cell_type": "code",
   "execution_count": 22,
   "metadata": {},
   "outputs": [
    {
     "data": {
      "text/plain": [
       "array([0.63, 0.8 , 0.9 , 0.97, 1.  , 0.99, 0.95, 0.94, 0.92, 1.  , 0.99,\n",
       "       0.69, 1.  , 0.89, 0.88, 0.73, 0.61, 0.96, 0.85, 1.  , 1.  , 0.73,\n",
       "       0.34, 0.84, 0.57, 0.92, 0.4 , 0.9 , 1.  , 0.84, 0.57, 0.56, 1.  ,\n",
       "       0.93, 0.37, 0.88, 0.95, 0.9 , 1.  , 0.39, 0.57, 0.99, 0.97, 1.  ,\n",
       "       0.55, 0.87, 0.16, 0.88, 0.95, 0.99])"
      ]
     },
     "execution_count": 22,
     "metadata": {},
     "output_type": "execute_result"
    }
   ],
   "source": [
    "selector.stability_scores_.max(axis=1)"
   ]
  },
  {
   "cell_type": "code",
   "execution_count": 23,
   "metadata": {},
   "outputs": [],
   "source": [
    "# Inherently multiclass:\n",
    "from sklearn.naive_bayes import BernoulliNB\n",
    "from sklearn.tree import DecisionTreeClassifier\n",
    "from sklearn.tree import ExtraTreeClassifier\n",
    "from sklearn.ensemble import ExtraTreesClassifier\n",
    "from sklearn.naive_bayes import GaussianNB\n",
    "from sklearn.neighbors import KNeighborsClassifier\n",
    "from sklearn.semi_supervised import LabelPropagation\n",
    "from sklearn.semi_supervised import LabelSpreading\n",
    "from sklearn.discriminant_analysis import LinearDiscriminantAnalysis\n",
    "from sklearn.svm import LinearSVC #(setting multi_class=”crammer_singer”)\n",
    "from sklearn.linear_model import LogisticRegression #(setting multi_class=”multinomial”)\n",
    "from sklearn.linear_model import LogisticRegressionCV #(setting multi_class=”multinomial”)\n",
    "from sklearn.neural_network import MLPClassifier\n",
    "from sklearn.neighbors import NearestCentroid\n",
    "from sklearn.discriminant_analysis import QuadraticDiscriminantAnalysis\n",
    "from sklearn.neighbors import RadiusNeighborsClassifier\n",
    "from sklearn.ensemble import RandomForestClassifier\n",
    "from sklearn.linear_model import RidgeClassifier\n",
    "from sklearn.linear_model import RidgeClassifierCV\n",
    "# Multiclass as One-Vs-One:\n",
    "from sklearn.svm import NuSVC\n",
    "from sklearn.svm import SVC\n",
    "from sklearn.gaussian_process import GaussianProcessClassifier #(setting multi_class = “one_vs_one”)\n",
    "# Multiclass as One-Vs-All:\n",
    "from sklearn.ensemble import GradientBoostingClassifier\n",
    "from sklearn.gaussian_process import GaussianProcessClassifier #(setting multi_class = “one_vs_rest”)\n",
    "from sklearn.svm import LinearSVC #(setting multi_class=”ovr”)\n",
    "from sklearn.linear_model import LogisticRegression #(setting multi_class=”ovr”)\n",
    "from sklearn.linear_model import LogisticRegressionCV #(setting multi_class=”ovr”)\n",
    "from sklearn.linear_model import SGDClassifier\n",
    "from sklearn.linear_model import Perceptron\n",
    "from sklearn.linear_model import PassiveAggressiveClassifier\n",
    "\n",
    "models_all = {'BernoulliNB':BernoulliNB(),\n",
    "            'DecisionTreeClassifier':DecisionTreeClassifier(),\n",
    "            'ExtraTreeClassifier':ExtraTreeClassifier(),  \n",
    "            'ExtraTreesClassifier':ExtraTreesClassifier(),\n",
    "            'GaussianNB':GaussianNB(),\n",
    "            'KNeighborsClassifier':KNeighborsClassifier(),\n",
    "            'LabelPropagation':LabelPropagation(),\n",
    "            'LabelSpreading':LabelSpreading(),\n",
    "            'LinearDiscriminantAnalysis':LinearDiscriminantAnalysis(),\n",
    "            'LinearSVC': LinearSVC(multi_class='crammer_singer'),\n",
    "            'LogisticRegression':LogisticRegression('multinomial'),\n",
    "            'LogisticRegressionCV':LogisticRegressionCV('multinomial'),\n",
    "            'MLPClassifier':MLPClassifier(),\n",
    "            'NearestCentroid':NearestCentroid(),\n",
    "            'QuadraticDiscriminantAnalysis':QuadraticDiscriminantAnalysis(),\n",
    "            'RandomForestClassifier':RandomForestClassifier(),\n",
    "            'RidgeClassifier':RidgeClassifier(),\n",
    "            'RidgeClassifierCV':RidgeClassifierCV(),\n",
    "            'NuSVC': NuSVC(),\n",
    "            'SVC':SVC(),\n",
    "            'GaussianProcessClassifier':GaussianProcessClassifier(multi_class = 'one_vs_one'),\n",
    "            'GradientBoostingClassifier':GradientBoostingClassifier(),\n",
    "            'GaussianProcessClassifier':GaussianProcessClassifier(multi_class = 'one_vs_rest'),\n",
    "            'LinearSVC':LinearSVC(multi_class='ovr'),\n",
    "            'LogisticRegression':LogisticRegression(multi_class='ovr'),\n",
    "            'LogisticRegressionCV':LogisticRegressionCV(multi_class='ovr'),\n",
    "            'SGDClassifier':SGDClassifier(),\n",
    "            'Perceptron':Perceptron(),\n",
    "            'PassiveAggressiveClassifier':PassiveAggressiveClassifier()                       \n",
    "}"
   ]
  },
  {
   "cell_type": "code",
   "execution_count": 24,
   "metadata": {},
   "outputs": [],
   "source": [
    "def Model(width,height,modelname):\n",
    "    '''\n",
    "    if modelname=='lr':\n",
    "        model = LogisticRegression()\n",
    "    elif modelname=='svm':\n",
    "        model = SVC()\n",
    "    elif modelname=='xgb':\n",
    "        model = GradientBoostingClassifier()\n",
    "    elif modelname=='kn':\n",
    "        model = neighbors.KNeighborsClassifier(n_neighbors=4, algorithm='brute')\n",
    "    elif modelname=='rf':\n",
    "        model = RandomForestClassifier(n_estimators=10,  max_depth=12, n_jobs=5)\n",
    "    elif modelname=='gp':\n",
    "        kernel = 1.0 * DotProduct(sigma_0=1.0)**4\n",
    "        model = GaussianProcessClassifier(kernel = kernel, optimizer=None,verbose=1)\n",
    "    elif modelname=='mlp':\n",
    "        model = MLPClassifier(verbose=1)\n",
    "    '''\n",
    "    model = models_all[modelname]\n",
    "    \n",
    "    print (model)\n",
    "    model.fit(X_train, y_train)\n",
    "    print ('finish training')\n",
    "    y_pred = model.predict(X_test)\n",
    "    \n",
    "    fig, ax = plt.subplots(1,2,figsize=(width,height))\n",
    "    f1,accuracy,recall,precision,mcc = report_metrics(y_test, y_pred)\n",
    "    metrics_1 = np.concatenate((recall.reshape(-1,1),precision.reshape(-1,1),f1.reshape(-1,1)),axis=1)\n",
    "    sns.stripplot(data=metrics_1,ax=ax[0])\n",
    "    sns.boxplot(data=metrics_1,ax=ax[0])\n",
    "    ax[0].set_xticklabels(['recall','precision','f1'])\n",
    "    metrics_2=np.array([accuracy,mcc])\n",
    "    sns.barplot(data=pd.DataFrame(metrics_2.reshape(1,-1)),ax=ax[1])\n",
    "    ax[1].set_xticklabels(['accuracy','mcc'])"
   ]
  },
  {
   "cell_type": "code",
   "execution_count": 26,
   "metadata": {},
   "outputs": [],
   "source": [
    "def Model_select_feature(width,height,modelname):\n",
    "    '''\n",
    "    if modelname=='lr':\n",
    "        model = LogisticRegression()\n",
    "    elif modelname=='svm':\n",
    "        model = SVC()\n",
    "    elif modelname=='xgb':\n",
    "        model = GradientBoostingClassifier()\n",
    "    elif modelname=='kn':\n",
    "        model = neighbors.KNeighborsClassifier(n_neighbors=4, algorithm='brute')\n",
    "    elif modelname=='rf':\n",
    "        model = RandomForestClassifier(n_estimators=10,  max_depth=12, n_jobs=5)\n",
    "    elif modelname=='gp':\n",
    "        kernel = 1.0 * DotProduct(sigma_0=1.0)**4\n",
    "        model = GaussianProcessClassifier(kernel = kernel, optimizer=None,verbose=1)\n",
    "    elif modelname=='mlp':\n",
    "        model = MLPClassifier(verbose=1)\n",
    "    '''\n",
    "    model = models_all[modelname]\n",
    "    \n",
    "    print (model)\n",
    "    model.fit(X_train[:,select_ind], y_train)\n",
    "    print ('finish training')\n",
    "    y_pred = model.predict(X_test[:,select_ind])\n",
    "    \n",
    "    fig, ax = plt.subplots(1,2,figsize=(width,height))\n",
    "    f1,accuracy,recall,precision,mcc = report_metrics(y_test, y_pred)\n",
    "    metrics_1 = np.concatenate((recall.reshape(-1,1),precision.reshape(-1,1),f1.reshape(-1,1)),axis=1)\n",
    "    sns.stripplot(data=metrics_1,ax=ax[0])\n",
    "    sns.boxplot(data=metrics_1,ax=ax[0])\n",
    "    ax[0].set_xticklabels(['recall','precision','f1'])\n",
    "    metrics_2=np.array([accuracy,mcc])\n",
    "    sns.barplot(data=pd.DataFrame(metrics_2.reshape(1,-1)),ax=ax[1])\n",
    "    ax[1].set_xticklabels(['accuracy','mcc'])"
   ]
  },
  {
   "cell_type": "code",
   "execution_count": 25,
   "metadata": {},
   "outputs": [
    {
     "data": {
      "application/vnd.jupyter.widget-view+json": {
       "model_id": "a4bcc233c3df4d0ba6683e52aa934bbc",
       "version_major": 2,
       "version_minor": 0
      },
      "text/plain": [
       "interactive(children=(FloatSlider(value=15.0, description='width', max=24.0, min=12.0, step=2.0), FloatSlider(…"
      ]
     },
     "metadata": {},
     "output_type": "display_data"
    },
    {
     "data": {
      "text/plain": [
       "<function __main__.Model(width, height, modelname)>"
      ]
     },
     "execution_count": 25,
     "metadata": {},
     "output_type": "execute_result"
    }
   ],
   "source": [
    "interact(Model,modelname= Dropdown(options=[i for i in models_all.keys()],value='LogisticRegression'),\n",
    "                width =FloatSlider(min=12,max=24,step=2,value=15),\n",
    "                 height= FloatSlider(min=4,max=8,step=2,value=5),\n",
    "        )"
   ]
  },
  {
   "cell_type": "code",
   "execution_count": 33,
   "metadata": {},
   "outputs": [],
   "source": [
    "select_ind = np.where(selector.stability_scores_.max(axis=1)>=0.5)[0]"
   ]
  },
  {
   "cell_type": "code",
   "execution_count": 34,
   "metadata": {},
   "outputs": [
    {
     "data": {
      "application/vnd.jupyter.widget-view+json": {
       "model_id": "0f1563595ac546988cc3ead88da0c703",
       "version_major": 2,
       "version_minor": 0
      },
      "text/plain": [
       "interactive(children=(FloatSlider(value=15.0, description='width', max=24.0, min=12.0, step=2.0), FloatSlider(…"
      ]
     },
     "metadata": {},
     "output_type": "display_data"
    },
    {
     "data": {
      "text/plain": [
       "<function __main__.Model_select_feature(width, height, modelname)>"
      ]
     },
     "execution_count": 34,
     "metadata": {},
     "output_type": "execute_result"
    }
   ],
   "source": [
    "interact(Model_select_feature,modelname= Dropdown(options=[i for i in models_all.keys()],value='LogisticRegression'),\n",
    "                width =FloatSlider(min=12,max=24,step=2,value=15),\n",
    "                 height= FloatSlider(min=4,max=8,step=2,value=5),\n",
    "        )"
   ]
  },
  {
   "cell_type": "code",
   "execution_count": null,
   "metadata": {},
   "outputs": [],
   "source": []
  },
  {
   "cell_type": "code",
   "execution_count": null,
   "metadata": {},
   "outputs": [],
   "source": []
  },
  {
   "cell_type": "code",
   "execution_count": 14,
   "metadata": {},
   "outputs": [
    {
     "name": "stdout",
     "output_type": "stream",
     "text": [
      "Selected variables are:\n",
      "-----------------------\n",
      "Variable 1: [0], score 0.630\n",
      "Variable 2: [1], score 0.800\n",
      "Variable 3: [2], score 0.900\n",
      "Variable 4: [3], score 0.970\n",
      "Variable 5: [4], score 1.000\n",
      "Variable 6: [5], score 0.990\n",
      "Variable 7: [6], score 0.950\n",
      "Variable 8: [7], score 0.940\n",
      "Variable 9: [8], score 0.920\n",
      "Variable 10: [9], score 1.000\n",
      "Variable 11: [10], score 0.990\n",
      "Variable 12: [11], score 0.690\n",
      "Variable 13: [12], score 1.000\n",
      "Variable 14: [13], score 0.890\n",
      "Variable 15: [14], score 0.880\n",
      "Variable 16: [15], score 0.730\n",
      "Variable 17: [16], score 0.610\n",
      "Variable 18: [17], score 0.960\n",
      "Variable 19: [18], score 0.850\n",
      "Variable 20: [19], score 1.000\n",
      "Variable 21: [20], score 1.000\n",
      "Variable 22: [21], score 0.730\n",
      "Variable 23: [23], score 0.840\n",
      "Variable 24: [25], score 0.920\n",
      "Variable 25: [27], score 0.900\n",
      "Variable 26: [28], score 1.000\n",
      "Variable 27: [29], score 0.840\n",
      "Variable 28: [32], score 1.000\n",
      "Variable 29: [33], score 0.930\n",
      "Variable 30: [35], score 0.880\n",
      "Variable 31: [36], score 0.950\n",
      "Variable 32: [37], score 0.900\n",
      "Variable 33: [38], score 1.000\n",
      "Variable 34: [41], score 0.990\n",
      "Variable 35: [42], score 0.970\n",
      "Variable 36: [43], score 1.000\n",
      "Variable 37: [45], score 0.870\n",
      "Variable 38: [47], score 0.880\n",
      "Variable 39: [48], score 0.950\n",
      "Variable 40: [49], score 0.990\n"
     ]
    },
    {
     "data": {
      "image/png": "[encoded data removed]",
      "text/plain": [
       "<Figure size 432x288 with 1 Axes>"
      ]
     },
     "metadata": {
      "needs_background": "light"
     },
     "output_type": "display_data"
    }
   ],
   "source": [
    "from stability_selection import StabilitySelection, plot_stability_path\n",
    "fig, ax = plot_stability_path(selector)\n",
    "fig.show()\n",
    "\n",
    "selected_variables = selector.get_support(indices=True)\n",
    "selected_scores = selector.stability_scores_.max(axis=1)\n",
    "\n",
    "print('Selected variables are:')\n",
    "print('-----------------------')\n",
    "\n",
    "for idx, (variable, score) in enumerate(zip(selected_variables, selected_scores[selected_variables])):\n",
    "    print('Variable %d: [%d], score %.3f' % (idx + 1, variable, score))\n"
   ]
  },
  {
   "cell_type": "code",
   "execution_count": 15,
   "metadata": {},
   "outputs": [
    {
     "ename": "AttributeError",
     "evalue": "'StabilitySelection' object has no attribute 'predict'",
     "output_type": "error",
     "traceback": [
      "\u001b[0;31m---------------------------------------------------------------------------\u001b[0m",
      "\u001b[0;31mAttributeError\u001b[0m                            Traceback (most recent call last)",
      "\u001b[0;32m<ipython-input-15-1078cdfa42da>\u001b[0m in \u001b[0;36m<module>\u001b[0;34m\u001b[0m\n\u001b[0;32m----> 1\u001b[0;31m \u001b[0mselector\u001b[0m\u001b[0;34m.\u001b[0m\u001b[0mpredict\u001b[0m\u001b[0;34m(\u001b[0m\u001b[0mX_test\u001b[0m\u001b[0;34m)\u001b[0m\u001b[0;34m\u001b[0m\u001b[0;34m\u001b[0m\u001b[0m\n\u001b[0m",
      "\u001b[0;31mAttributeError\u001b[0m: 'StabilitySelection' object has no attribute 'predict'"
     ]
    }
   ],
   "source": [
    "selector.predict(X_test)"
   ]
  },
  {
   "cell_type": "code",
   "execution_count": null,
   "metadata": {},
   "outputs": [],
   "source": [
    "selector = StabilitySelection(base_estimator=base_estimator,\n",
    "                              lambda_name='model__C',\n",
    "                              lambda_grid=np.logspace(-5, -1, 5),\n",
    "                              bootstrap_func='complementary_pairs')\n",
    "selector.fit(X, y)"
   ]
  }
 ],
 "metadata": {
  "kernelspec": {
   "display_name": "Python 3",
   "language": "python",
   "name": "python3"
  },
  "language_info": {
   "codemirror_mode": {
    "name": "ipython",
    "version": 3
   },
   "file_extension": ".py",
   "mimetype": "text/x-python",
   "name": "python",
   "nbconvert_exporter": "python",
   "pygments_lexer": "ipython3",
   "version": "3.6.8"
  },
  "toc": {
   "base_numbering": 1,
   "nav_menu": {},
   "number_sections": true,
   "sideBar": true,
   "skip_h1_title": false,
   "title_cell": "Table of Contents",
   "title_sidebar": "Contents",
   "toc_cell": false,
   "toc_position": {},
   "toc_section_display": true,
   "toc_window_display": false
  }
 },
 "nbformat": 4,
 "nbformat_minor": 2
}
